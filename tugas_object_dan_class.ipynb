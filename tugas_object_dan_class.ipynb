{
  "nbformat": 4,
  "nbformat_minor": 0,
  "metadata": {
    "colab": {
      "provenance": [],
      "authorship_tag": "ABX9TyNFixBAr6nui8eYx8qf8xrk",
      "include_colab_link": true
    },
    "kernelspec": {
      "name": "python3",
      "display_name": "Python 3"
    },
    "language_info": {
      "name": "python"
    }
  },
  "cells": [
    {
      "cell_type": "markdown",
      "metadata": {
        "id": "view-in-github",
        "colab_type": "text"
      },
      "source": [
        "<a href=\"https://colab.research.google.com/github/amnlkh/PBO_Tugas3/blob/main/tugas_object_dan_class.ipynb\" target=\"_parent\"><img src=\"https://colab.research.google.com/assets/colab-badge.svg\" alt=\"Open In Colab\"/></a>"
      ]
    },
    {
      "cell_type": "code",
      "execution_count": 10,
      "metadata": {
        "colab": {
          "base_uri": "https://localhost:8080/"
        },
        "id": "7indocdBrIsE",
        "outputId": "7f12a203-62d0-41e9-de2c-31265b4ad211"
      },
      "outputs": [
        {
          "output_type": "stream",
          "name": "stdout",
          "text": [
            "Budi details :\n",
            "Rambut :  Ikal\n",
            "Warna Rambut :  Hitam\n",
            "\n",
            "Michael details :\n",
            "Rambut :  Lurus\n",
            "Warna Rambut :  Pirang\n"
          ]
        }
      ],
      "source": [
        "# class variable\n",
        "class Person:\n",
        "\n",
        "# Instance variables\n",
        "    def __init__(self, rambut, warna):\n",
        "        self.rambut = rambut\n",
        "        self.warna = warna\n",
        "\n",
        "# The init method or constructor\n",
        "    def __init__(self, rambut, warna):\n",
        "\n",
        "        # Instance variables\n",
        "        self.rambut = rambut\n",
        "        self.warna = warna\n",
        "\n",
        "# Objects\n",
        "Budi = Person(\"Ikal\", \"Hitam\")\n",
        "Michael = Person(\"Lurus\", \"Pirang\")\n",
        "\n",
        "print('Budi details :')\n",
        "print('Rambut : ', Budi.rambut)\n",
        "print('Warna Rambut : ', Budi.warna)\n",
        "\n",
        "print('\\nMichael details :')\n",
        "print('Rambut : ', Michael.rambut)\n",
        "print('Warna Rambut : ', Michael.warna)"
      ]
    }
  ]
}